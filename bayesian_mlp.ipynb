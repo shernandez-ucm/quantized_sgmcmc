{
 "cells": [
  {
   "cell_type": "code",
   "execution_count": 1,
   "id": "bWoSgVQfp0cj",
   "metadata": {
    "colab": {
     "base_uri": "https://localhost:8080/"
    },
    "id": "bWoSgVQfp0cj",
    "outputId": "40536d81-958a-4c69-e05b-797b88979a9c"
   },
   "outputs": [
    {
     "name": "stdout",
     "output_type": "stream",
     "text": [
      "Collecting blackjax\n",
      "  Downloading blackjax-1.2.4-py3-none-any.whl.metadata (6.5 kB)\n",
      "Requirement already satisfied: fastprogress>=1.0.0 in /usr/local/lib/python3.10/dist-packages (from blackjax) (1.0.3)\n",
      "Requirement already satisfied: jax>=0.4.16 in /usr/local/lib/python3.10/dist-packages (from blackjax) (0.4.33)\n",
      "Requirement already satisfied: jaxlib>=0.4.16 in /usr/local/lib/python3.10/dist-packages (from blackjax) (0.4.33)\n",
      "Collecting jaxopt>=0.8 (from blackjax)\n",
      "  Downloading jaxopt-0.8.3-py3-none-any.whl.metadata (2.6 kB)\n",
      "Requirement already satisfied: optax>=0.1.7 in /usr/local/lib/python3.10/dist-packages (from blackjax) (0.2.3)\n",
      "Requirement already satisfied: typing-extensions>=4.4.0 in /usr/local/lib/python3.10/dist-packages (from blackjax) (4.12.2)\n",
      "Requirement already satisfied: ml-dtypes>=0.2.0 in /usr/local/lib/python3.10/dist-packages (from jax>=0.4.16->blackjax) (0.4.1)\n",
      "Requirement already satisfied: numpy>=1.24 in /usr/local/lib/python3.10/dist-packages (from jax>=0.4.16->blackjax) (1.26.4)\n",
      "Requirement already satisfied: opt-einsum in /usr/local/lib/python3.10/dist-packages (from jax>=0.4.16->blackjax) (3.4.0)\n",
      "Requirement already satisfied: scipy>=1.10 in /usr/local/lib/python3.10/dist-packages (from jax>=0.4.16->blackjax) (1.13.1)\n",
      "Requirement already satisfied: absl-py>=0.7.1 in /usr/local/lib/python3.10/dist-packages (from optax>=0.1.7->blackjax) (1.4.0)\n",
      "Requirement already satisfied: chex>=0.1.86 in /usr/local/lib/python3.10/dist-packages (from optax>=0.1.7->blackjax) (0.1.87)\n",
      "Requirement already satisfied: etils[epy] in /usr/local/lib/python3.10/dist-packages (from optax>=0.1.7->blackjax) (1.9.4)\n",
      "Requirement already satisfied: toolz>=0.9.0 in /usr/local/lib/python3.10/dist-packages (from chex>=0.1.86->optax>=0.1.7->blackjax) (0.12.1)\n",
      "Downloading blackjax-1.2.4-py3-none-any.whl (4.6 MB)\n",
      "\u001b[2K   \u001b[90m━━━━━━━━━━━━━━━━━━━━━━━━━━━━━━━━━━━━━━━━\u001b[0m \u001b[32m4.6/4.6 MB\u001b[0m \u001b[31m30.2 MB/s\u001b[0m eta \u001b[36m0:00:00\u001b[0m\n",
      "\u001b[?25hDownloading jaxopt-0.8.3-py3-none-any.whl (172 kB)\n",
      "\u001b[2K   \u001b[90m━━━━━━━━━━━━━━━━━━━━━━━━━━━━━━━━━━━━━━━━\u001b[0m \u001b[32m172.3/172.3 kB\u001b[0m \u001b[31m12.6 MB/s\u001b[0m eta \u001b[36m0:00:00\u001b[0m\n",
      "\u001b[?25hInstalling collected packages: jaxopt, blackjax\n",
      "Successfully installed blackjax-1.2.4 jaxopt-0.8.3\n",
      "Collecting distrax\n",
      "  Downloading distrax-0.1.5-py3-none-any.whl.metadata (13 kB)\n",
      "Requirement already satisfied: absl-py>=0.9.0 in /usr/local/lib/python3.10/dist-packages (from distrax) (1.4.0)\n",
      "Requirement already satisfied: chex>=0.1.8 in /usr/local/lib/python3.10/dist-packages (from distrax) (0.1.87)\n",
      "Requirement already satisfied: jax>=0.1.55 in /usr/local/lib/python3.10/dist-packages (from distrax) (0.4.33)\n",
      "Requirement already satisfied: jaxlib>=0.1.67 in /usr/local/lib/python3.10/dist-packages (from distrax) (0.4.33)\n",
      "Requirement already satisfied: numpy>=1.23.0 in /usr/local/lib/python3.10/dist-packages (from distrax) (1.26.4)\n",
      "Requirement already satisfied: tensorflow-probability>=0.15.0 in /usr/local/lib/python3.10/dist-packages (from distrax) (0.24.0)\n",
      "Requirement already satisfied: typing-extensions>=4.2.0 in /usr/local/lib/python3.10/dist-packages (from chex>=0.1.8->distrax) (4.12.2)\n",
      "Requirement already satisfied: toolz>=0.9.0 in /usr/local/lib/python3.10/dist-packages (from chex>=0.1.8->distrax) (0.12.1)\n",
      "Requirement already satisfied: ml-dtypes>=0.2.0 in /usr/local/lib/python3.10/dist-packages (from jax>=0.1.55->distrax) (0.4.1)\n",
      "Requirement already satisfied: opt-einsum in /usr/local/lib/python3.10/dist-packages (from jax>=0.1.55->distrax) (3.4.0)\n",
      "Requirement already satisfied: scipy>=1.10 in /usr/local/lib/python3.10/dist-packages (from jax>=0.1.55->distrax) (1.13.1)\n",
      "Requirement already satisfied: six>=1.10.0 in /usr/local/lib/python3.10/dist-packages (from tensorflow-probability>=0.15.0->distrax) (1.16.0)\n",
      "Requirement already satisfied: decorator in /usr/local/lib/python3.10/dist-packages (from tensorflow-probability>=0.15.0->distrax) (4.4.2)\n",
      "Requirement already satisfied: cloudpickle>=1.3 in /usr/local/lib/python3.10/dist-packages (from tensorflow-probability>=0.15.0->distrax) (2.2.1)\n",
      "Requirement already satisfied: gast>=0.3.2 in /usr/local/lib/python3.10/dist-packages (from tensorflow-probability>=0.15.0->distrax) (0.6.0)\n",
      "Requirement already satisfied: dm-tree in /usr/local/lib/python3.10/dist-packages (from tensorflow-probability>=0.15.0->distrax) (0.1.8)\n",
      "Downloading distrax-0.1.5-py3-none-any.whl (319 kB)\n",
      "\u001b[2K   \u001b[90m━━━━━━━━━━━━━━━━━━━━━━━━━━━━━━━━━━━━━━━━\u001b[0m \u001b[32m319.7/319.7 kB\u001b[0m \u001b[31m7.0 MB/s\u001b[0m eta \u001b[36m0:00:00\u001b[0m\n",
      "\u001b[?25hInstalling collected packages: distrax\n",
      "Successfully installed distrax-0.1.5\n",
      "Requirement already satisfied: flax in /usr/local/lib/python3.10/dist-packages (0.8.5)\n",
      "Requirement already satisfied: numpy>=1.22 in /usr/local/lib/python3.10/dist-packages (from flax) (1.26.4)\n",
      "Requirement already satisfied: jax>=0.4.27 in /usr/local/lib/python3.10/dist-packages (from flax) (0.4.33)\n",
      "Requirement already satisfied: msgpack in /usr/local/lib/python3.10/dist-packages (from flax) (1.0.8)\n",
      "Requirement already satisfied: optax in /usr/local/lib/python3.10/dist-packages (from flax) (0.2.3)\n",
      "Requirement already satisfied: orbax-checkpoint in /usr/local/lib/python3.10/dist-packages (from flax) (0.6.4)\n",
      "Requirement already satisfied: tensorstore in /usr/local/lib/python3.10/dist-packages (from flax) (0.1.66)\n",
      "Requirement already satisfied: rich>=11.1 in /usr/local/lib/python3.10/dist-packages (from flax) (13.9.2)\n",
      "Requirement already satisfied: typing-extensions>=4.2 in /usr/local/lib/python3.10/dist-packages (from flax) (4.12.2)\n",
      "Requirement already satisfied: PyYAML>=5.4.1 in /usr/local/lib/python3.10/dist-packages (from flax) (6.0.2)\n",
      "Requirement already satisfied: jaxlib<=0.4.33,>=0.4.33 in /usr/local/lib/python3.10/dist-packages (from jax>=0.4.27->flax) (0.4.33)\n",
      "Requirement already satisfied: ml-dtypes>=0.2.0 in /usr/local/lib/python3.10/dist-packages (from jax>=0.4.27->flax) (0.4.1)\n",
      "Requirement already satisfied: opt-einsum in /usr/local/lib/python3.10/dist-packages (from jax>=0.4.27->flax) (3.4.0)\n",
      "Requirement already satisfied: scipy>=1.10 in /usr/local/lib/python3.10/dist-packages (from jax>=0.4.27->flax) (1.13.1)\n",
      "Requirement already satisfied: markdown-it-py>=2.2.0 in /usr/local/lib/python3.10/dist-packages (from rich>=11.1->flax) (3.0.0)\n",
      "Requirement already satisfied: pygments<3.0.0,>=2.13.0 in /usr/local/lib/python3.10/dist-packages (from rich>=11.1->flax) (2.18.0)\n",
      "Requirement already satisfied: absl-py>=0.7.1 in /usr/local/lib/python3.10/dist-packages (from optax->flax) (1.4.0)\n",
      "Requirement already satisfied: chex>=0.1.86 in /usr/local/lib/python3.10/dist-packages (from optax->flax) (0.1.87)\n",
      "Requirement already satisfied: etils[epy] in /usr/local/lib/python3.10/dist-packages (from optax->flax) (1.9.4)\n",
      "Requirement already satisfied: nest_asyncio in /usr/local/lib/python3.10/dist-packages (from orbax-checkpoint->flax) (1.6.0)\n",
      "Requirement already satisfied: protobuf in /usr/local/lib/python3.10/dist-packages (from orbax-checkpoint->flax) (3.20.3)\n",
      "Requirement already satisfied: humanize in /usr/local/lib/python3.10/dist-packages (from orbax-checkpoint->flax) (4.10.0)\n",
      "Requirement already satisfied: toolz>=0.9.0 in /usr/local/lib/python3.10/dist-packages (from chex>=0.1.86->optax->flax) (0.12.1)\n",
      "Requirement already satisfied: mdurl~=0.1 in /usr/local/lib/python3.10/dist-packages (from markdown-it-py>=2.2.0->rich>=11.1->flax) (0.1.2)\n",
      "Requirement already satisfied: fsspec in /usr/local/lib/python3.10/dist-packages (from etils[epath,epy]->orbax-checkpoint->flax) (2024.6.1)\n",
      "Requirement already satisfied: importlib_resources in /usr/local/lib/python3.10/dist-packages (from etils[epath,epy]->orbax-checkpoint->flax) (6.4.5)\n",
      "Requirement already satisfied: zipp in /usr/local/lib/python3.10/dist-packages (from etils[epath,epy]->orbax-checkpoint->flax) (3.20.2)\n",
      "Collecting sgmcmcjax\n",
      "  Downloading SGMCMCJax-0.2.13-py3-none-any.whl.metadata (3.9 kB)\n",
      "Requirement already satisfied: jax in /usr/local/lib/python3.10/dist-packages (from sgmcmcjax) (0.4.33)\n",
      "Requirement already satisfied: jaxlib in /usr/local/lib/python3.10/dist-packages (from sgmcmcjax) (0.4.33)\n",
      "Requirement already satisfied: tqdm in /usr/local/lib/python3.10/dist-packages (from sgmcmcjax) (4.66.5)\n",
      "Requirement already satisfied: optax in /usr/local/lib/python3.10/dist-packages (from sgmcmcjax) (0.2.3)\n",
      "Requirement already satisfied: ml-dtypes>=0.2.0 in /usr/local/lib/python3.10/dist-packages (from jax->sgmcmcjax) (0.4.1)\n",
      "Requirement already satisfied: numpy>=1.24 in /usr/local/lib/python3.10/dist-packages (from jax->sgmcmcjax) (1.26.4)\n",
      "Requirement already satisfied: opt-einsum in /usr/local/lib/python3.10/dist-packages (from jax->sgmcmcjax) (3.4.0)\n",
      "Requirement already satisfied: scipy>=1.10 in /usr/local/lib/python3.10/dist-packages (from jax->sgmcmcjax) (1.13.1)\n",
      "Requirement already satisfied: absl-py>=0.7.1 in /usr/local/lib/python3.10/dist-packages (from optax->sgmcmcjax) (1.4.0)\n",
      "Requirement already satisfied: chex>=0.1.86 in /usr/local/lib/python3.10/dist-packages (from optax->sgmcmcjax) (0.1.87)\n",
      "Requirement already satisfied: etils[epy] in /usr/local/lib/python3.10/dist-packages (from optax->sgmcmcjax) (1.9.4)\n",
      "Requirement already satisfied: typing-extensions>=4.2.0 in /usr/local/lib/python3.10/dist-packages (from chex>=0.1.86->optax->sgmcmcjax) (4.12.2)\n",
      "Requirement already satisfied: toolz>=0.9.0 in /usr/local/lib/python3.10/dist-packages (from chex>=0.1.86->optax->sgmcmcjax) (0.12.1)\n",
      "Downloading SGMCMCJax-0.2.13-py3-none-any.whl (27 kB)\n",
      "Installing collected packages: sgmcmcjax\n",
      "Successfully installed sgmcmcjax-0.2.13\n"
     ]
    }
   ],
   "source": [
    "!pip install blackjax\n",
    "!pip install distrax\n",
    "!pip install flax\n",
    "!pip install sgmcmcjax\n",
    "!pip3 install kernax"
   ]
  },
  {
   "cell_type": "code",
   "execution_count": 1,
   "id": "aaad5eeb",
   "metadata": {
    "id": "aaad5eeb"
   },
   "outputs": [
    {
     "name": "stderr",
     "output_type": "stream",
     "text": [
      "2025-01-24 09:42:41.998901: E external/local_xla/xla/stream_executor/cuda/cuda_fft.cc:485] Unable to register cuFFT factory: Attempting to register factory for plugin cuFFT when one has already been registered\n",
      "2025-01-24 09:42:42.139611: E external/local_xla/xla/stream_executor/cuda/cuda_dnn.cc:8454] Unable to register cuDNN factory: Attempting to register factory for plugin cuDNN when one has already been registered\n",
      "2025-01-24 09:42:42.173168: E external/local_xla/xla/stream_executor/cuda/cuda_blas.cc:1452] Unable to register cuBLAS factory: Attempting to register factory for plugin cuBLAS when one has already been registered\n",
      "2025-01-24 09:42:43.846642: W tensorflow/compiler/tf2tensorrt/utils/py_utils.cc:38] TF-TRT Warning: Could not find TensorRT\n"
     ]
    }
   ],
   "source": [
    "import matplotlib.pyplot as plt\n",
    "import scienceplots\n",
    "\n",
    "import jax\n",
    "from datetime import date\n",
    "import jax.numpy as jnp\n",
    "import distrax\n",
    "\n",
    "plt.style.use('science')\n",
    "#plt.rcParams[\"axes.spines.right\"] = False\n",
    "#plt.rcParams[\"axes.spines.top\"] = False\n",
    "#plt.rcParams[\"figure.figsize\"] = (12, 8)\n",
    "\n",
    "import flax.linen as nn\n",
    "import jax.scipy.stats as stats"
   ]
  },
  {
   "cell_type": "markdown",
   "id": "284fd0a3",
   "metadata": {
    "id": "284fd0a3"
   },
   "source": [
    "Definimos el modelo y la función de verosimilitud"
   ]
  },
  {
   "cell_type": "code",
   "execution_count": 3,
   "id": "8a862dd4",
   "metadata": {
    "id": "8a862dd4"
   },
   "outputs": [],
   "source": [
    "from sklearn.datasets import make_moons\n",
    "from sklearn.model_selection import train_test_split\n",
    "X, y = make_moons(noise=0.2, random_state=0, n_samples=1000)\n",
    "\n",
    "\n",
    "X_train, X_test, y_train, y_test = train_test_split(X, y, test_size=0.33, random_state=42)"
   ]
  },
  {
   "cell_type": "code",
   "execution_count": 4,
   "id": "ae036f5a",
   "metadata": {},
   "outputs": [
    {
     "data": {
      "text/plain": [
       "(670, 2)"
      ]
     },
     "execution_count": 4,
     "metadata": {},
     "output_type": "execute_result"
    }
   ],
   "source": [
    "X_train.shape"
   ]
  },
  {
   "cell_type": "code",
   "execution_count": 5,
   "id": "59-HubU8Vsv-",
   "metadata": {
    "id": "59-HubU8Vsv-"
   },
   "outputs": [],
   "source": [
    "from sklearn import preprocessing\n",
    "\n",
    "scaler = preprocessing.StandardScaler().fit(X_train)\n",
    "X_train=scaler.transform(X_train)\n",
    "X_test=scaler.transform(X_test)"
   ]
  },
  {
   "cell_type": "code",
   "execution_count": 22,
   "id": "32a20a23",
   "metadata": {
    "colab": {
     "base_uri": "https://localhost:8080/",
     "height": 717
    },
    "id": "32a20a23",
    "outputId": "5f6771d8-75df-46b2-c243-9be13c123f0f"
   },
   "outputs": [],
   "source": [
    "plt.style.use(['science','scatter','high-contrast'])\n",
    "\n",
    "fig, ax = plt.subplots()\n",
    "ax.scatter(X[y == 0, 0], X[y == 0, 1], color=\"C0\", label=\"Class 0\")\n",
    "ax.scatter(X[y == 1, 0], X[y == 1, 1], color=\"C1\", label=\"Class 1\")\n",
    "ax.autoscale(tight=True)\n",
    "ax.legend()\n",
    "ax.set(xlabel=\"X1\", ylabel=\"X2\", title=\"Binary classification data set\");\n",
    "fig.savefig(\"figures/binary_train_dataset.pdf\", dpi=300)\n",
    "plt.close()"
   ]
  },
  {
   "cell_type": "code",
   "execution_count": 15,
   "id": "29caceb4",
   "metadata": {
    "id": "29caceb4"
   },
   "outputs": [
    {
     "name": "stderr",
     "output_type": "stream",
     "text": [
      "/home/sergio/virtualenvs/jax/lib/python3.12/site-packages/tqdm/auto.py:21: TqdmWarning: IProgress not found. Please update jupyter and ipywidgets. See https://ipywidgets.readthedocs.io/en/stable/user_install.html\n",
      "  from .autonotebook import tqdm as notebook_tqdm\n"
     ]
    }
   ],
   "source": [
    "from sgmcmcjax.kernels import build_sgld_kernel, build_psgld_kernel, build_sgldAdam_kernel, build_sghmc_kernel\n",
    "\n",
    "class SimpleMLP(nn.Module):\n",
    "\n",
    "  @nn.compact\n",
    "  def __call__(self, inputs):\n",
    "    x = inputs\n",
    "    x = nn.Dense(32, name=f'layer1')(x)\n",
    "    x = nn.relu(x)\n",
    "    x = nn.Dense(64, name=f'layer2')(x)\n",
    "    x = nn.relu(x)\n",
    "    x = nn.Dense(1, name=f'layer3')(x)\n",
    "    x = nn.sigmoid(x)\n",
    "    return x\n",
    "\n",
    "model = SimpleMLP()\n",
    "\n",
    "def logprior(params):\n",
    "    leaves, _ = jax.tree_util.tree_flatten(params)\n",
    "    flat_params = jnp.concatenate([jnp.ravel(a) for a in leaves])\n",
    "    return distrax.Normal(0., 1.).log_prob(flat_params).sum()\n",
    "\n",
    "def loglikelihood(params, X,y):\n",
    "    y_pred=model.apply({'params':(params)}, X)\n",
    "    return distrax.Bernoulli(y_pred).log_prob(y.reshape(-1,1)).sum()\n"
   ]
  },
  {
   "cell_type": "code",
   "execution_count": 16,
   "id": "8ebfcb40",
   "metadata": {
    "id": "8ebfcb40"
   },
   "outputs": [],
   "source": [
    "def run_sgmcmc(key, Nsamples, init_fn, my_kernel, get_params):\n",
    "    \"Run SGMCMC sampler and return the test accuracy list\"\n",
    "    loss = list()\n",
    "    samples=list()\n",
    "    key, subkey1,subkey2 = jax.random.split(key,3)\n",
    "    params = model.init(subkey1, jnp.ones_like(X_train[:2]))['params']\n",
    "    state = init_fn(subkey2, params)\n",
    "\n",
    "    for i in range(Nsamples):\n",
    "        key, subkey = jax.random.split(key)\n",
    "        state = my_kernel(i, subkey, state)\n",
    "        loss.append(-1.0*loglikelihood(get_params(state),X_test,y_test))\n",
    "        position={'params':(get_params(state))}\n",
    "        samples.append(position)\n",
    "        if (i%(Nsamples//10)==0):\n",
    "            print('iteration {0}, loss {1:.2f}'.format(i,loss[-1]))\n",
    "    return samples,loss\n"
   ]
  },
  {
   "cell_type": "code",
   "execution_count": 18,
   "id": "20444296",
   "metadata": {
    "colab": {
     "base_uri": "https://localhost:8080/"
    },
    "id": "20444296",
    "outputId": "5160fc57-9687-4c5c-e89e-b095de6104ec"
   },
   "outputs": [],
   "source": [
    "from sgmcmcjax.kernels import build_sgld_kernel, build_psgld_kernel, build_sgldAdam_kernel, build_sghmc_kernel\n",
    "\n",
    "num_training_steps=8000\n",
    "mini_batch=64\n",
    "learning_rate=1e-4\n",
    "\n",
    "data=(X_train,y_train)\n",
    "init_fn, sgld_kernel, get_params = build_sgld_kernel(learning_rate, loglikelihood, logprior, data, mini_batch)\n",
    "sgld_kernel = jax.jit(sgld_kernel)\n",
    "rng_key = jax.random.PRNGKey(0)\n"
   ]
  },
  {
   "cell_type": "code",
   "execution_count": 19,
   "id": "57325612",
   "metadata": {},
   "outputs": [
    {
     "name": "stdout",
     "output_type": "stream",
     "text": [
      "iteration 0, loss 242.32\n",
      "iteration 800, loss 183.84\n",
      "iteration 1600, loss 181.29\n",
      "iteration 2400, loss 180.98\n",
      "iteration 3200, loss 177.55\n",
      "iteration 4000, loss 174.04\n",
      "iteration 4800, loss 173.85\n",
      "iteration 5600, loss 169.73\n",
      "iteration 6400, loss 171.52\n",
      "iteration 7200, loss 177.09\n"
     ]
    }
   ],
   "source": [
    "sgld_samples,loss = run_sgmcmc(rng_key, num_training_steps, init_fn, sgld_kernel, get_params)"
   ]
  },
  {
   "cell_type": "code",
   "execution_count": 26,
   "id": "20911a65",
   "metadata": {
    "colab": {
     "base_uri": "https://localhost:8080/",
     "height": 696
    },
    "id": "20911a65",
    "outputId": "56992b12-1f78-4320-af11-4f4a0c55abf6"
   },
   "outputs": [],
   "source": [
    "fig, ax = plt.subplots()\n",
    "ax.plot(loss)\n",
    "ax.spines.right.set_visible(False)\n",
    "ax.spines.top.set_visible(False)\n",
    "\n",
    "# Only show ticks on the left and bottom spines\n",
    "ax.yaxis.set_ticks_position('left')\n",
    "ax.xaxis.set_ticks_position('bottom')\n",
    "ax.set(xlabel=\"epoch\", ylabel=\"negative log-likelihood\", title=\"SGLD sample path\");\n",
    "fig.savefig(\"figures/sgld_nll.pdf\", dpi=300)\n",
    "plt.close()"
   ]
  },
  {
   "cell_type": "code",
   "execution_count": 27,
   "id": "fb492dca",
   "metadata": {
    "colab": {
     "base_uri": "https://localhost:8080/"
    },
    "id": "fb492dca",
    "outputId": "84f48b24-bde2-4264-cf8d-39a59f1f744e"
   },
   "outputs": [
    {
     "data": {
      "text/plain": [
       "{'params': {'layer1': {'bias': (32,), 'kernel': (2, 32)},\n",
       "  'layer2': {'bias': (64,), 'kernel': (32, 64)},\n",
       "  'layer3': {'bias': (1,), 'kernel': (64, 1)}}}"
      ]
     },
     "execution_count": 27,
     "metadata": {},
     "output_type": "execute_result"
    }
   ],
   "source": [
    "jax.tree.map(lambda p:p.shape,sgld_samples[0])"
   ]
  },
  {
   "cell_type": "markdown",
   "id": "433ab7ba",
   "metadata": {
    "id": "433ab7ba"
   },
   "source": [
    "# INT 8 Quantization\n",
    "\n",
    "[Quantization Blog]https://leimao.github.io/article/Neural-Networks-Quantization/\n",
    "\n",
    "https://proceedings.mlr.press/v162/zhang22ag/zhang22ag.pdf"
   ]
  },
  {
   "cell_type": "code",
   "execution_count": 28,
   "id": "9fc6f9c0",
   "metadata": {
    "id": "9fc6f9c0"
   },
   "outputs": [],
   "source": [
    "def quantization(x, s, z, alpha_q, beta_q):\n",
    "    x_q = jnp.round(1 / s * x + z, decimals=0)\n",
    "    x_q = jnp.clip(x_q, a_min=alpha_q, a_max=beta_q)\n",
    "    return x_q.astype(jnp.uint8)\n",
    "\n",
    "\n",
    "def quantization_int8(x, s, z):\n",
    "    x_q = quantization(x, s, z, alpha_q=-128, beta_q=127)\n",
    "    x_q = x_q.astype(jnp.int8)\n",
    "    return x_q\n",
    "\n",
    "def dequantization(x_q, s, z):\n",
    "    # x_q - z might go outside the quantization range.\n",
    "    x_q = x_q.astype(jnp.int32)\n",
    "    x = s * (x_q - z)\n",
    "    x = x.astype(jnp.float16)\n",
    "    return x\n",
    "\n",
    "\n",
    "def generate_quantization_constants_scale(alpha, beta, alpha_q, beta_q):\n",
    "    # Affine quantization mapping\n",
    "    s = (beta - alpha) / (beta_q - alpha_q)\n",
    "    return s\n",
    "\n",
    "def generate_quantization_constants_bias(alpha, beta, alpha_q, beta_q):\n",
    "    # Affine quantization mapping\n",
    "    z = jnp.int8((beta * alpha_q - alpha * beta_q) / (beta - alpha))\n",
    "    return z\n",
    "\n"
   ]
  },
  {
   "cell_type": "code",
   "execution_count": 29,
   "id": "-4u9wWjgsBR0",
   "metadata": {
    "id": "-4u9wWjgsBR0"
   },
   "outputs": [],
   "source": [
    "def tree_stack(trees):\n",
    "    return jax.tree.map(lambda *v: jnp.stack(v), *trees)\n",
    "\n",
    "def tree_unstack(tree):\n",
    "    leaves, treedef = jax.tree.flatten(tree)\n",
    "    return [treedef.unflatten(leaf) for leaf in zip(*leaves, strict=True)]\n",
    "\n",
    "stacked_samples=tree_stack(sgld_samples)\n",
    "alpha=jax.tree.map(lambda p:jnp.min(p,axis=0),stacked_samples)\n",
    "beta=jax.tree.map(lambda p:jnp.max(p,axis=0),stacked_samples)\n",
    "b=8\n",
    "alpha_q = 0\n",
    "beta_q = 255\n",
    "s=jax.tree.map(lambda a,b:generate_quantization_constants_scale(a,b,alpha_q,beta_q),alpha,beta)\n",
    "z=jax.tree.map(lambda a,b:generate_quantization_constants_bias(a,b,alpha_q,beta_q),alpha,beta)\n"
   ]
  },
  {
   "cell_type": "code",
   "execution_count": 30,
   "id": "fsxIq8lLusrx",
   "metadata": {
    "id": "fsxIq8lLusrx"
   },
   "outputs": [],
   "source": [
    "quantized_stacked_samples=jax.tree.map(lambda x,s,z:quantization(x,s,z,alpha_q,beta_q),stacked_samples,s,z)"
   ]
  },
  {
   "cell_type": "code",
   "execution_count": 53,
   "id": "Iy1PP2itvncS",
   "metadata": {
    "colab": {
     "base_uri": "https://localhost:8080/"
    },
    "id": "Iy1PP2itvncS",
    "outputId": "07770d43-fe9e-4ac4-b489-9ec3be68699d"
   },
   "outputs": [
    {
     "data": {
      "text/plain": [
       "{'params': {'layer1': {'bias': dtype('uint8'), 'kernel': dtype('uint8')},\n",
       "  'layer2': {'bias': dtype('uint8'), 'kernel': dtype('uint8')},\n",
       "  'layer3': {'bias': dtype('uint8'), 'kernel': dtype('uint8')}}}"
      ]
     },
     "execution_count": 53,
     "metadata": {},
     "output_type": "execute_result"
    }
   ],
   "source": [
    "jax.tree.map(lambda p:p.dtype,quantized_stacked_samples)"
   ]
  },
  {
   "cell_type": "code",
   "execution_count": 54,
   "id": "GzkBW9I8vsL-",
   "metadata": {
    "colab": {
     "base_uri": "https://localhost:8080/"
    },
    "id": "GzkBW9I8vsL-",
    "outputId": "f0c41aea-cdc8-48a1-fdab-e1d7532f7070"
   },
   "outputs": [
    {
     "data": {
      "text/plain": [
       "{'params': {'layer1': {'bias': dtype('float32'), 'kernel': dtype('float32')},\n",
       "  'layer2': {'bias': dtype('float32'), 'kernel': dtype('float32')},\n",
       "  'layer3': {'bias': dtype('float32'), 'kernel': dtype('float32')}}}"
      ]
     },
     "execution_count": 54,
     "metadata": {},
     "output_type": "execute_result"
    }
   ],
   "source": [
    "jax.tree.map(lambda p:p.dtype,stacked_samples)"
   ]
  },
  {
   "cell_type": "code",
   "execution_count": 43,
   "id": "4cf80247",
   "metadata": {
    "id": "4cf80247"
   },
   "outputs": [],
   "source": [
    "dequantized_stacked_samples=jax.tree.map(\n",
    "    lambda x,s,z:dequantization(x,s,z),quantized_stacked_samples,s,z)"
   ]
  },
  {
   "cell_type": "code",
   "execution_count": 37,
   "id": "l7JTNtzHwdCJ",
   "metadata": {
    "id": "l7JTNtzHwdCJ"
   },
   "outputs": [],
   "source": [
    "dequantized_samples=tree_unstack(dequantized_stacked_samples)"
   ]
  },
  {
   "cell_type": "code",
   "execution_count": 91,
   "id": "0a1YVBqRw_9U",
   "metadata": {
    "colab": {
     "base_uri": "https://localhost:8080/"
    },
    "id": "0a1YVBqRw_9U",
    "outputId": "bae34be9-23a8-4747-9985-9b917f61e3de"
   },
   "outputs": [
    {
     "data": {
      "text/plain": [
       "{'params': {'layer1': {'bias': Array(33.994297, dtype=float32),\n",
       "   'kernel': Array(173.67186, dtype=float32)},\n",
       "  'layer2': {'bias': Array(59.584972, dtype=float32),\n",
       "   'kernel': Array(505.40366, dtype=float32)},\n",
       "  'layer3': {'bias': Array(0.64191675, dtype=float32),\n",
       "   'kernel': Array(72.39763, dtype=float32)}}}"
      ]
     },
     "execution_count": 91,
     "metadata": {},
     "output_type": "execute_result"
    }
   ],
   "source": [
    "jax.tree.map(lambda p,q:jnp.linalg.norm(p-q),dequantized_stacked_samples,stacked_samples)"
   ]
  },
  {
   "cell_type": "code",
   "execution_count": 96,
   "id": "1634b3b2",
   "metadata": {},
   "outputs": [],
   "source": [
    "fp32_size=sum(jax.tree.flatten(jax.tree.map(lambda p:p.nbytes,stacked_samples))[0])*1e-6"
   ]
  },
  {
   "cell_type": "code",
   "execution_count": 95,
   "id": "06086223",
   "metadata": {},
   "outputs": [],
   "source": [
    "int8_size=sum(jax.tree.flatten(jax.tree.map(lambda p:p.nbytes,quantized_stacked_samples))[0])*1e-6"
   ]
  },
  {
   "cell_type": "code",
   "execution_count": 107,
   "id": "7c76aa5f",
   "metadata": {},
   "outputs": [
    {
     "name": "stdout",
     "output_type": "stream",
     "text": [
      "Tamaño Muestras FP32 : 72.74Mb\n"
     ]
    }
   ],
   "source": [
    "print('Tamaño Muestras FP32 : {0:.2f}Mb'.format(fp32_size))"
   ]
  },
  {
   "cell_type": "code",
   "execution_count": 108,
   "id": "b1642b99",
   "metadata": {},
   "outputs": [
    {
     "name": "stdout",
     "output_type": "stream",
     "text": [
      "Tamaño Muestras FP32 : 18.18Mb\n"
     ]
    }
   ],
   "source": [
    "print('Tamaño Muestras FP32 : {0:.2f}Mb'.format(int8_size))"
   ]
  },
  {
   "cell_type": "markdown",
   "id": "n8H7X84hwINV",
   "metadata": {
    "id": "n8H7X84hwINV"
   },
   "source": [
    "# Pruebas de Clasificacion"
   ]
  },
  {
   "cell_type": "code",
   "execution_count": 109,
   "id": "10944aa8",
   "metadata": {
    "id": "10944aa8"
   },
   "outputs": [],
   "source": [
    "import numpy as np\n",
    "\n",
    "params=sgld_samples[-1]\n",
    "y_pred=np.asarray(model.apply(params, X_test)>0.5)"
   ]
  },
  {
   "cell_type": "code",
   "execution_count": 110,
   "id": "aade1dc0",
   "metadata": {
    "id": "aade1dc0"
   },
   "outputs": [],
   "source": [
    "from matplotlib.colors import ListedColormap\n",
    "h=0.1\n",
    "x_min, x_max = X_train[:, 0].min() - .5, X_train[:, 0].max() + .5\n",
    "y_min, y_max = X_train[:, 1].min() - .5, X_train[:, 1].max() + .5\n",
    "xx, yy = np.meshgrid(np.arange(x_min, x_max, h),np.arange(y_min, y_max, h))\n",
    "X_grid = jnp.c_[xx.ravel(), yy.ravel()]\n",
    "cm = plt.cm.RdBu\n",
    "cm_bright = ListedColormap(['#FF0000', '#0000FF'])\n",
    "# ax = plt.plot()\n",
    "# Plot the training points\n",
    "#ax.scatter(X_train[:, 0], X_train[:, 1], c=y_train, cmap=cm_bright)\n",
    "# and testing points\n",
    "#ax.scatter(X_test[:, 0], X_test[:, 1], c=y_test, cmap=cm_bright, alpha=0.6)\n",
    "#ax.set_xlim(xx.min(), xx.max())"
   ]
  },
  {
   "cell_type": "code",
   "execution_count": 111,
   "id": "-XrzfZh3EqsB",
   "metadata": {
    "colab": {
     "base_uri": "https://localhost:8080/"
    },
    "id": "-XrzfZh3EqsB",
    "outputId": "4a6d11cf-beb3-4c32-b960-a2eb0c8dc6d8"
   },
   "outputs": [
    {
     "data": {
      "text/plain": [
       "(2809, 2)"
      ]
     },
     "execution_count": 111,
     "metadata": {},
     "output_type": "execute_result"
    }
   ],
   "source": [
    "X_grid.shape"
   ]
  },
  {
   "cell_type": "code",
   "execution_count": null,
   "id": "3bBzbyElD7jI",
   "metadata": {
    "id": "3bBzbyElD7jI"
   },
   "outputs": [],
   "source": [
    "mean_grid_pred=jax.vmap(model.apply,in_axes=(0,None))(stacked_samples, X_grid).mean(axis=0)\n",
    "q_mean_grid_pred=jax.vmap(model.apply,in_axes=(0,None))(dequantized_stacked_samples, X_grid).mean(axis=0)\n"
   ]
  },
  {
   "cell_type": "code",
   "execution_count": null,
   "id": "1a39dbb5",
   "metadata": {},
   "outputs": [],
   "source": []
  },
  {
   "cell_type": "code",
   "execution_count": 24,
   "id": "Yb9HNpaAE9IQ",
   "metadata": {
    "colab": {
     "base_uri": "https://localhost:8080/",
     "height": 772
    },
    "id": "Yb9HNpaAE9IQ",
    "outputId": "a1556740-3f17-4866-e9af-76ce21dc5f56"
   },
   "outputs": [
    {
     "data": {
      "text/plain": [
       "<matplotlib.collections.PathCollection at 0x7c4838eae320>"
      ]
     },
     "execution_count": 24,
     "metadata": {},
     "output_type": "execute_result"
    },
    {
     "data": {
      "image/png": "[encoded data removed]",
      "text/plain": [
       "<Figure size 1200x800 with 2 Axes>"
      ]
     },
     "metadata": {},
     "output_type": "display_data"
    }
   ],
   "source": [
    "fig, (ax1, ax2) = plt.subplots(1, 2)\n",
    "fig.suptitle('Probabilidad de Clase')\n",
    "ax1.contourf(xx, yy, np.array(mean_grid_pred).reshape(xx.shape), cmap=\"coolwarm\", alpha=0.8)\n",
    "ax1.scatter(X_test[y_test == 0, 0], X_test[y_test == 0, 1], color=\"C0\", label=\"Class 0\")\n",
    "ax1.scatter(X_test[y_test == 1, 0], X_test[y_test == 1, 1], color=\"C1\", label=\"Class 1\")\n",
    "#ax1.scatter(X_test[:, 0], X_test[:, 1], c=y_test, cmap=cm_bright, alpha=0.6)\n",
    "ax2.contourf(xx, yy, np.array(q_mean_grid_pred).reshape(xx.shape), cmap=\"coolwarm\", alpha=0.8)\n",
    "ax2.scatter(X_test[y_test == 0, 0], X_test[y_test == 0, 1], color=\"C0\",label=\"Class 0\")\n",
    "ax2.scatter(X_test[y_test == 1, 0], X_test[y_test == 1, 1], color=\"C1\", label=\"Class 1\")"
   ]
  },
  {
   "cell_type": "code",
   "execution_count": 25,
   "id": "QGh49molTDtO",
   "metadata": {
    "id": "QGh49molTDtO"
   },
   "outputs": [],
   "source": [
    "preds=jax.vmap(model.apply,in_axes=(0,None))(stacked_samples, X_test)"
   ]
  },
  {
   "cell_type": "code",
   "execution_count": 26,
   "id": "e6181e78",
   "metadata": {
    "id": "e6181e78"
   },
   "outputs": [],
   "source": [
    "q_preds=jax.vmap(model.apply,in_axes=(0,None))(dequantized_stacked_samples, X_test)"
   ]
  },
  {
   "cell_type": "code",
   "execution_count": 27,
   "id": "b882a4a1",
   "metadata": {
    "id": "b882a4a1"
   },
   "outputs": [],
   "source": [
    "mean_pred=jnp.mean(preds,axis=0)"
   ]
  },
  {
   "cell_type": "code",
   "execution_count": 28,
   "id": "b2d0fde7",
   "metadata": {
    "id": "b2d0fde7"
   },
   "outputs": [],
   "source": [
    "q_mean_pred=jnp.mean(q_preds,axis=0)"
   ]
  },
  {
   "cell_type": "code",
   "execution_count": 29,
   "id": "91fa683e",
   "metadata": {
    "colab": {
     "base_uri": "https://localhost:8080/"
    },
    "id": "91fa683e",
    "outputId": "74bfdd95-c223-4153-983e-29deb5c84e7c"
   },
   "outputs": [
    {
     "name": "stdout",
     "output_type": "stream",
     "text": [
      "              precision    recall  f1-score   support\n",
      "\n",
      "           0       0.80      0.92      0.85       153\n",
      "           1       0.92      0.80      0.85       177\n",
      "\n",
      "    accuracy                           0.85       330\n",
      "   macro avg       0.86      0.86      0.85       330\n",
      "weighted avg       0.86      0.85      0.85       330\n",
      "\n"
     ]
    }
   ],
   "source": [
    "from sklearn.metrics import classification_report\n",
    "\n",
    "print(classification_report(y_test, np.asarray(mean_pred>0.5)))"
   ]
  },
  {
   "cell_type": "code",
   "execution_count": 30,
   "id": "779d18d6",
   "metadata": {
    "colab": {
     "base_uri": "https://localhost:8080/"
    },
    "id": "779d18d6",
    "outputId": "4fbc2b51-fc98-458d-e0b8-49ee1c4713a2"
   },
   "outputs": [
    {
     "name": "stdout",
     "output_type": "stream",
     "text": [
      "              precision    recall  f1-score   support\n",
      "\n",
      "           0       0.79      0.90      0.84       153\n",
      "           1       0.90      0.79      0.84       177\n",
      "\n",
      "    accuracy                           0.84       330\n",
      "   macro avg       0.85      0.85      0.84       330\n",
      "weighted avg       0.85      0.84      0.84       330\n",
      "\n"
     ]
    }
   ],
   "source": [
    "print(classification_report(y_test, np.asarray(q_mean_pred>0.5)))"
   ]
  },
  {
   "cell_type": "markdown",
   "id": "nlqCpkeYtaWP",
   "metadata": {
    "id": "nlqCpkeYtaWP"
   },
   "source": [
    "# Metricas de Muestreo"
   ]
  },
  {
   "cell_type": "code",
   "execution_count": 36,
   "id": "BDgGwNGvt_pg",
   "metadata": {
    "id": "BDgGwNGvt_pg"
   },
   "outputs": [],
   "source": [
    "from kernax import SteinThinning"
   ]
  },
  {
   "cell_type": "code",
   "execution_count": 37,
   "id": "sjSdJt02uBa3",
   "metadata": {
    "colab": {
     "base_uri": "https://localhost:8080/"
    },
    "id": "sjSdJt02uBa3",
    "outputId": "af518358-febb-4631-bd8e-38a5d778b9e7"
   },
   "outputs": [
    {
     "data": {
      "text/plain": [
       "{'params': {'layer1': {'bias': (8000, 10), 'kernel': (8000, 2, 10)},\n",
       "  'layer2': {'bias': (8000, 10), 'kernel': (8000, 10, 10)},\n",
       "  'layer3': {'bias': (8000, 1), 'kernel': (8000, 10, 1)}}}"
      ]
     },
     "execution_count": 37,
     "metadata": {},
     "output_type": "execute_result"
    }
   ],
   "source": [
    "jax.tree.map(lambda p:p.shape,stacked_samples)"
   ]
  },
  {
   "cell_type": "code",
   "execution_count": 42,
   "id": "ZHMIWN-FuWsP",
   "metadata": {
    "id": "ZHMIWN-FuWsP"
   },
   "outputs": [],
   "source": [
    "log_probs=jax.vmap(loglikelihood,in_axes=(0,None,None))(stacked_samples['params'],X_test,y_test)"
   ]
  },
  {
   "cell_type": "code",
   "execution_count": 55,
   "id": "nbG3kj2vx0ej",
   "metadata": {
    "id": "nbG3kj2vx0ej"
   },
   "outputs": [],
   "source": [
    "score_fn=jax.grad(loglikelihood)"
   ]
  },
  {
   "cell_type": "code",
   "execution_count": 74,
   "id": "wR_Ykwa6y1uU",
   "metadata": {
    "id": "wR_Ykwa6y1uU"
   },
   "outputs": [],
   "source": [
    "scores={'params':jax.vmap(score_fn,in_axes=(0,None,None))(stacked_samples['params'],X_test,y_test)}"
   ]
  },
  {
   "cell_type": "code",
   "execution_count": 99,
   "id": "n_D-TxUevdY3",
   "metadata": {
    "id": "n_D-TxUevdY3"
   },
   "outputs": [],
   "source": [
    "from kernax.utils import median_heuristic\n",
    "\n",
    "flatten_stacked_samples=jax.tree.map(lambda p:p.reshape(8000,-1),stacked_samples)\n",
    "length_scales=jax.tree.map(lambda p:median_heuristic(p),flatten_stacked_samples)\n"
   ]
  },
  {
   "cell_type": "code",
   "execution_count": 100,
   "id": "HF3BCtUB5aGJ",
   "metadata": {
    "id": "HF3BCtUB5aGJ"
   },
   "outputs": [],
   "source": [
    "flatten_scores=jax.tree.map(lambda p:p.reshape(8000,-1),scores)"
   ]
  },
  {
   "cell_type": "code",
   "execution_count": 101,
   "id": "ZOoIiJiOvWAH",
   "metadata": {
    "id": "ZOoIiJiOvWAH"
   },
   "outputs": [],
   "source": [
    "from kernax import SteinThinning\n",
    "\n",
    "stein_fn=jax.tree.map(lambda x,s,l:SteinThinning(x,s,l),flatten_stacked_samples,flatten_scores,length_scales)"
   ]
  },
  {
   "cell_type": "code",
   "execution_count": 105,
   "id": "UtX-XLnm2P9m",
   "metadata": {
    "id": "UtX-XLnm2P9m"
   },
   "outputs": [],
   "source": [
    "indices=jax.tree.map(lambda f:f(1000),stein_fn)"
   ]
  },
  {
   "cell_type": "code",
   "execution_count": 106,
   "id": "78Nxh96t6SOY",
   "metadata": {
    "id": "78Nxh96t6SOY"
   },
   "outputs": [],
   "source": [
    "thinned_samples=jax.tree.map(lambda x,i:x[i],stacked_samples,indices)"
   ]
  },
  {
   "cell_type": "code",
   "execution_count": 107,
   "id": "IaiJeqdY6ukL",
   "metadata": {
    "colab": {
     "base_uri": "https://localhost:8080/"
    },
    "id": "IaiJeqdY6ukL",
    "outputId": "1df8724b-587c-4bea-f4f2-a92649d392cf"
   },
   "outputs": [
    {
     "data": {
      "text/plain": [
       "{'params': {'layer1': {'bias': (1000, 10), 'kernel': (1000, 2, 10)},\n",
       "  'layer2': {'bias': (1000, 10), 'kernel': (1000, 10, 10)},\n",
       "  'layer3': {'bias': (1000, 1), 'kernel': (1000, 10, 1)}}}"
      ]
     },
     "execution_count": 107,
     "metadata": {},
     "output_type": "execute_result"
    }
   ],
   "source": [
    "jax.tree.map(lambda p:p.shape,thinned_samples)"
   ]
  },
  {
   "cell_type": "markdown",
   "id": "Rriu_32a7G-O",
   "metadata": {
    "id": "Rriu_32a7G-O"
   },
   "source": []
  },
  {
   "cell_type": "code",
   "execution_count": 108,
   "id": "5k3Tijb86yx_",
   "metadata": {
    "id": "5k3Tijb86yx_"
   },
   "outputs": [],
   "source": [
    "thinned_preds=jax.vmap(model.apply,in_axes=(0,None))(thinned_samples, X_test)"
   ]
  },
  {
   "cell_type": "code",
   "execution_count": 110,
   "id": "rzMFel1O7H3u",
   "metadata": {
    "id": "rzMFel1O7H3u"
   },
   "outputs": [],
   "source": [
    "thinned_mean_pred=jnp.mean(thinned_preds,axis=0)"
   ]
  },
  {
   "cell_type": "code",
   "execution_count": 112,
   "id": "EYjwB50W6_XW",
   "metadata": {
    "colab": {
     "base_uri": "https://localhost:8080/"
    },
    "id": "EYjwB50W6_XW",
    "outputId": "0a49db75-5f84-4148-903d-cd864257a56e"
   },
   "outputs": [
    {
     "name": "stdout",
     "output_type": "stream",
     "text": [
      "              precision    recall  f1-score   support\n",
      "\n",
      "           0       0.74      0.95      0.83       153\n",
      "           1       0.95      0.71      0.81       177\n",
      "\n",
      "    accuracy                           0.82       330\n",
      "   macro avg       0.84      0.83      0.82       330\n",
      "weighted avg       0.85      0.82      0.82       330\n",
      "\n"
     ]
    }
   ],
   "source": [
    "\n",
    "print(classification_report(y_test, np.asarray(thinned_mean_pred>0.5)))"
   ]
  },
  {
   "cell_type": "code",
   "execution_count": 113,
   "id": "pJpl_vCZ7vUh",
   "metadata": {
    "id": "pJpl_vCZ7vUh"
   },
   "outputs": [],
   "source": [
    "t_mean_grid_pred=jax.vmap(model.apply,in_axes=(0,None))(thinned_samples, X_grid).mean(axis=0)"
   ]
  },
  {
   "cell_type": "code",
   "execution_count": 115,
   "id": "uKOSEGsp7-mB",
   "metadata": {
    "colab": {
     "base_uri": "https://localhost:8080/"
    },
    "id": "uKOSEGsp7-mB",
    "outputId": "7f0741ce-4693-4cba-b27e-ab65ba852cac"
   },
   "outputs": [
    {
     "data": {
      "text/plain": [
       "(2809, 1)"
      ]
     },
     "execution_count": 115,
     "metadata": {},
     "output_type": "execute_result"
    }
   ],
   "source": [
    "t_mean_grid_pred.shape"
   ]
  },
  {
   "cell_type": "code",
   "execution_count": 116,
   "id": "7XBxK7bL70q7",
   "metadata": {
    "colab": {
     "base_uri": "https://localhost:8080/",
     "height": 772
    },
    "id": "7XBxK7bL70q7",
    "outputId": "5048c7f5-904e-4bb4-f66d-5679616c92f5"
   },
   "outputs": [
    {
     "data": {
      "text/plain": [
       "<matplotlib.collections.PathCollection at 0x7c482d808a90>"
      ]
     },
     "execution_count": 116,
     "metadata": {},
     "output_type": "execute_result"
    },
    {
     "data": {
      "image/png": "[encoded data removed]",
      "text/plain": [
       "<Figure size 1200x800 with 1 Axes>"
      ]
     },
     "metadata": {},
     "output_type": "display_data"
    }
   ],
   "source": [
    "fig, ax = plt.subplots(1, 1)\n",
    "fig.suptitle('Probabilidad de Clase')\n",
    "ax.contourf(xx, yy, np.array(t_mean_grid_pred).reshape(xx.shape), cmap=\"coolwarm\", alpha=0.8)\n",
    "ax.scatter(X_test[y_test == 0, 0], X_test[y_test == 0, 1], color=\"C0\", label=\"Class 0\")\n",
    "ax.scatter(X_test[y_test == 1, 0], X_test[y_test == 1, 1], color=\"C1\", label=\"Class 1\")"
   ]
  },
  {
   "cell_type": "markdown",
   "id": "-HAPmtjtTGZq",
   "metadata": {
    "id": "-HAPmtjtTGZq"
   },
   "source": []
  }
 ],
 "metadata": {
  "accelerator": "GPU",
  "colab": {
   "gpuType": "T4",
   "provenance": []
  },
  "kernelspec": {
   "display_name": "jax",
   "language": "python",
   "name": "jax"
  },
  "language_info": {
   "codemirror_mode": {
    "name": "ipython",
    "version": 3
   },
   "file_extension": ".py",
   "mimetype": "text/x-python",
   "name": "python",
   "nbconvert_exporter": "python",
   "pygments_lexer": "ipython3",
   "version": "3.12.3"
  }
 },
 "nbformat": 4,
 "nbformat_minor": 5
}
